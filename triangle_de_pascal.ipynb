{
 "cells": [
  {
   "cell_type": "markdown",
   "metadata": {},
   "source": [
    "Blaise Pascal est un scientifique français né le 19 juin 1623 et mort le 19 août 1662. Il commence par étudier les sciences naturelles et appliquées avant de s'intéresser aux mathématiques. Il invente la première machine à calculer. En 1654, Blaise Pascal publie le Traité du triangle arithméthique."
   ]
  },
  {
   "attachments": {
    "tri_de_pascal.png": {
     "image/png": "[encoded data removed]"
    }
   },
   "cell_type": "markdown",
   "metadata": {},
   "source": [
    "Le triangle de Pascal est donné par Cpn = n!/(p!(n-p)!). n doit toujours être inférieur à n.\n",
    "![tri_de_pascal.png](attachment:tri_de_pascal.png)\n",
    "Le triangle permet de connaître les coefficients binômiaux du binôme de Newton pour n."
   ]
  },
  {
   "cell_type": "code",
   "execution_count": 19,
   "metadata": {},
   "outputs": [
    {
     "name": "stdout",
     "output_type": "stream",
     "text": [
      "1,3,3,1\n"
     ]
    }
   ],
   "source": [
    "def facto(a: int = 0) -> int:\n",
    "    \"\"\"le programme définit une fonction facto qui détermine le factorielle du nombre donné en argument\n",
    "    \"\"\"\n",
    "    assert isinstance(a, int), \"a must be a int, not {}\".format(type(a))\n",
    "    prod = 1\n",
    "    for i in range(1, a+1):\n",
    "        prod = prod * i\n",
    "    return prod\n",
    "\n",
    "\n",
    "def coef_binom_n(n: int = 2) -> str:\n",
    "    \"\"\"fonction qui retourne les coefficient binômiaux de n ligne\n",
    "    \"\"\"\n",
    "    # pour p allant de 0 à n, on calcule les coefficients pour les valeurs de p = 0 jusqu'à p = n\n",
    "    return_value = \",\".join([str(int(facto(n)/(facto(p)*facto(n-p)))) for p in range(n+1)])\n",
    "    return return_value\n",
    "\n",
    "\n",
    "print(coef_binom_n(3))"
   ]
  },
  {
   "cell_type": "markdown",
   "metadata": {},
   "source": [
    "Énoncé\n",
    "\n",
    "Joseph Marchand est incapable de vendre ses crêpes tout seul sur la plage, et se fait donc aider par ses deux enfants. Cependant, ces derniers aimeraient bien visiter leurs grands-parents en guise de vacances, mais Joseph désire absolument faire grandir son stand de crêpes. Il accepte finalement de leur accorder des vacances, sous quelques conditions. Tout d’abord, puisque Joseph a besoin de leur aide, il est nécessaire qu’au moins l’un d’eux soit présent à tout moment pour l’assister avec les crêpes (Joseph Marchand tolère cependant que l’un parte et l’autre revienne le même jour). De plus, vu qu’au sein de la famille les crêpes sont sacrées, tout l’argent de Joseph est investi dans le stand, ce qui signifie qu’il souhaite que la somme totale des deux voyages soit minimum. Malheureusement Joseph est débordé par toutes les possibilités de voyage, et a besoin de votre aide pour faire son choix.\n",
    "\n",
    "Entrée :\n",
    "\n",
    "La première ligne contient un seul entier N, représentant le nombre d’intervalles de vacances à la disposition\n",
    "de Joseph. Les N lignes suivantes décrivent donc chacune un intervalle à l’aide de 3 entiers : d, f, et\n",
    "c, où d est la date de début des vacances, f la fin, et c le coût total de ce voyage.\n",
    "\n",
    "Sortie :\n",
    "\n",
    "Vous devrez afficher en sortie la somme minimale d’argent que devra dépenser Joseph, ou bien -1 dans le\n",
    "cas où il n’est pas possible pour ses enfants de respecter les conditions imposées.\n",
    "\n",
    "Contraintes :\n",
    "\n",
    "- 1< N< 100 ;\n",
    "- 1 < d < f < 107 ;\n",
    "- 1 < c < 107"
   ]
  },
  {
   "cell_type": "code",
   "execution_count": 16,
   "metadata": {
    "scrolled": true
   },
   "outputs": [
    {
     "name": "stdout",
     "output_type": "stream",
     "text": [
      "5 6 10 3 2 5 1 6 7 3 5 8 6 1 3 2\n",
      "\n",
      "5\n",
      "6 10 3\n",
      "2 5 1\n",
      "6 7 3\n",
      "5 8 6\n",
      "1 3 2\n",
      "4\n"
     ]
    }
   ],
   "source": [
    "import re\n",
    "\n",
    "\n",
    "def cout(e: list):\n",
    "    e = sorted(e, key=lambda colonne : colonne[2])\n",
    "    date1 = e[0][0:2]\n",
    "    cout_tot = -1\n",
    "    match = False\n",
    "    for i in e:\n",
    "        di, fi = i[0:2]\n",
    "        if di not in range(date1[0], date1[1]) \\\n",
    "                and fi not in range(date1[0]+1, date1[1]) \\\n",
    "                and (e[0][2] + i[2] < cout_tot or cout_tot == -1):\n",
    "            cout_tot = e[0][2] + i[2]\n",
    "    return cout_tot\n",
    "\n",
    "\n",
    "N = input()\n",
    "while not re.findall(r\"^\\d+$\", N):\n",
    "    N = input()\n",
    "N = int(N)\n",
    "liste = []\n",
    "for i in range(N):\n",
    "    rep = input()\n",
    "    while not re.findall(r'^\\d+ \\d+ \\d+$', rep):\n",
    "        rep = input()\n",
    "    liste.append(tuple([int(i) for i in rep.split(\" \")]))\n",
    "print(cout(liste))"
   ]
  },
  {
   "cell_type": "code",
   "execution_count": null,
   "metadata": {},
   "outputs": [],
   "source": []
  }
 ],
 "metadata": {
  "kernelspec": {
   "display_name": "Python 3",
   "language": "python",
   "name": "python3"
  },
  "language_info": {
   "codemirror_mode": {
    "name": "ipython",
    "version": 3
   },
   "file_extension": ".py",
   "mimetype": "text/x-python",
   "name": "python",
   "nbconvert_exporter": "python",
   "pygments_lexer": "ipython3",
   "version": "3.7.4"
  }
 },
 "nbformat": 4,
 "nbformat_minor": 2
}
