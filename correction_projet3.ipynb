{
 "cells": [
  {
   "cell_type": "markdown",
   "metadata": {},
   "source": [
    "# <div style=\"text-align: center\"> Projet 3 : Jupyter et exercice </div>\n",
    "\n",
    "\n",
    "## I] Blaise Pascal\n",
    "### 1) Bibliographie \n",
    "\n",
    "Blaise Pascal, né le 19 juin 1623 à Clermont (aujourd'hui Clermont-Ferrand) en Auvergne et mort le 19 août 1662 à Paris, est un mathématicien, physicien, inventeur, philosophe, moraliste et théologien français.\n",
    "\n",
    "Enfant précoce, il est éduqué par son père. Les premiers travaux de Pascal concernent les sciences naturelles et appliquées. Il contribue de manière importante à l’étude des fluides et clarifie les concepts de pression et de vide en étendant le travail de Torricelli. Il est l'auteur de textes importants sur la méthode scientifique.\n",
    "\n",
    "À 19 ans, il invente la première machine à calculer et après trois ans de développement et cinquante prototypes, il la présente à ses contemporains en la dédiant au chancelier Séguier. Dénommée machine d’arithmétique, puis roue pascaline et enfin pascaline, il en construisit une vingtaine d'exemplaires dans la décennie suivante.\n",
    "\n",
    "Mathématicien de premier ordre, il crée deux nouveaux champs de recherche majeurs. Tout d’abord, il publie un traité de géométrie projective à seize ans ; ensuite il développe en 1654 une méthode de résolution du « problème des partis » qui, donnant naissance au cours du XVIIIe siècle au calcul des probabilités, influencera fortement les théories économiques modernes et les sciences sociales.\n",
    "\n",
    "Après une expérience mystique qu'il éprouve en novembre 1654, il se consacre à la réflexion philosophique et religieuse, sans toutefois renoncer aux travaux scientifiques. Il écrit pendant cette période Les Provinciales et les Pensées, publiées seulement après sa mort qui survient deux mois après son 39e anniversaire, alors qu’il a été longtemps malade.\n",
    "\n",
    "Le 8 juillet 2017, dans un entretien au quotidien italien \"La Repubblica\", le pape François annonce que Blaise Pascal « mériterait la béatification » et qu'il envisageait de lancer la procédure officielle. \n",
    "\n",
    "\n",
    "### 2) Triangle de Pascal \n",
    "\n",
    "Voici le triangle de Pascal :\n",
    "\n",
    "<img src=\"triangle_pascal2.png\" alt=\"Triangle de Pascal\" width=\"500\"/>\n",
    "\n",
    "* Le nombre situé à l'intersection de la ligne $n$ et de la colonne $p$ représente le coefficient de rang $p$ dans le développement de $(x + y)^n$\n",
    "\n",
    "* Ce nombre, appelé **coefficient binomial**, est noté : $C(n,k)$ ou $C_n^k$ ou $\\left( \\begin{matrix} n \\\\ k \\end{matrix}\\right) $ Notations moderne (et anglaise)\n",
    "\n",
    "* Exemple : $(a+b)^3=a^3+3a^2b+3ab^2+b^3$\n",
    "\n",
    "Coefficients : 1 ; 3 ;3 ; 1\n",
    " \n",
    "Notations classique :$C_3^0$ ; $C_3^1$ ; $C_3^2$ ; $C_3^3$\n",
    "\n",
    "Notation moderne : $\\left( \\begin{matrix} 3 \\\\ 0 \\end{matrix}\\right) $ ; $\\left( \\begin{matrix} 3 \\\\ 1 \\end{matrix}\\right) $ ; $\\left( \\begin{matrix} 3 \\\\ 2 \\end{matrix}\\right) $ ; $\\left( \\begin{matrix} 3 \\\\ 3 \\end{matrix}\\right) $\n",
    "\n",
    "## 2) Programmation \n",
    "\n",
    "Les coefficients $C_n^k$  se calculent par la formule suivante : $C_n^k=\\dfrac{n!}{(n-p)!\\times p!}$\n",
    "\n",
    "Programmons d'abord la fonction factorielle. La factorielle d'un entier naturel n est le produit des nombres entiers strictement positifs inférieurs ou égaux à n. C'est-à-dire\n",
    "que pour tout entier naturel $n$, sa factorielle est :\n",
    "\n",
    "$ n!=\\prod_{1\\leq i\\leq n}i $\n",
    "\n",
    "*Exemple :* \n",
    "\n",
    "\n",
    "<img src=\"fact8.png\" alt=\"factorielle\" width=\"300\"/>\n",
    "\n",
    "\n",
    "Pour la programmation :\n"
   ]
  },
  {
   "cell_type": "code",
   "execution_count": 1,
   "metadata": {},
   "outputs": [],
   "source": [
    "def fact(n:int):-> int:\n",
    "    \"\"\"fact(n): calcule la factorielle de n (entier >= 0)\"\"\"\n",
    "    x=1\n",
    "    for i in xrange(2,n+1):\n",
    "        x*=i\n",
    "    return x"
   ]
  },
  {
   "cell_type": "markdown",
   "metadata": {},
   "source": [
    "Puis pour la programmation des coefficients :"
   ]
  },
  {
   "cell_type": "code",
   "execution_count": null,
   "metadata": {},
   "outputs": [],
   "source": [
    "def coefficient(n:int)-> list:\n",
    "    \"\"\"coefficient calcule les coefficients du triangle de Pascal \"\"\"\n",
    "    coef=[]\n",
    "    for p in range(n+1):\n",
    "        coef.append(fact(n)/(facto(n-p)*fact(p)))\n",
    "    return coef"
   ]
  },
  {
   "cell_type": "markdown",
   "metadata": {},
   "source": [
    "## II] Exercice\n",
    "\n",
    "### 1) Enoncé\n",
    "\n",
    "Joseph Marchand est incapable de vendre ses crêpes tout seul sur la plage, et se fait donc aider par ses deux enfants. Cependant, ces derniers aimeraient bien visiter leurs grands-parents en guise de vacances,mais Joseph désire absolument faire grandir son stand de crêpes. Il accepte finalement de leur accorder des vacances, sous quelques conditions.\n",
    "Tout d’abord, puisque Joseph a besoin de leur aide, il est nécessaire qu’au moins l’un d’eux soit présent à tout moment pour l’assister avec les crêpes (Joseph Marchand tolère cependant que l’un parte et l’autre revienne le même jour). De plus, vu qu’au sein de la famille les crêpes sont sacrées, tout l’argent de Joseph est investi dans le stand, ce qui signifie qu’il souhaite que la somme totale des deux voyages soit minimum.\n",
    "\n",
    "Malheureusement Joseph est débordé par toutes les possibilités de voyage, et a besoin de votre aide pour\n",
    "faire son choix.\n",
    "\n",
    "### 2) Premier programme\n",
    "\n",
    "L'idée est de comparer toutes les propositions de dates et de voir si les vacances sont possibles. Quand c'est le cas, le programme ajoute les coûts respectifs des propositions et quand ce n'est pas le cas envoie -1.  "
   ]
  },
  {
   "cell_type": "code",
   "execution_count": null,
   "metadata": {},
   "outputs": [],
   "source": [
    "def coutMinVacances1(L:list)-> int:\n",
    "    \"\"\"CoutMinVacances1 calcule le cout minimal des vacances et \n",
    "    renvoie -1 quand ce n'est pas le cas\"\"\"\n",
    "   cout=[] \n",
    "   coutMin=-1\n",
    "   for i in range(len(L)):\n",
    "       for j in range(i,len(L)):\n",
    "           if L[i][0]!=L[j][0] and L[j][1]<L[i][0]:\n",
    "               cout.append(L[i][2]+L[j][2])\n",
    "   \n",
    "   if len(cout)!=0:\n",
    "       coutMin=min(cout)\n",
    "   return coutMin "
   ]
  },
  {
   "cell_type": "markdown",
   "metadata": {},
   "source": [
    "### 3) Programme plus efficace\n",
    "\n",
    "Le problème avec notre précédent programme est que sa complexité est en $O(N^2)$. Donc il faut trouver un autre moyen de calculer ce coût minimal.\n",
    "\n",
    "On a vu que la complexité de la méthode sorted() était en $O (NlogN)$.Il nous faut donc trier selon un critère : le coût par exemple. Cela nous donnera un classement des périodes et donc la période la moins chère. Il ne nous reste plus qu'à comparer ($O (N)$) toutes les périodes à cette dernière. Si le début de chaque période n'est pas compris dans l'intervalle \"début de la période la moins chère, fin de la période la moins chère\" , et si la fin de chaque période n'est pas compris dans l'intervalle \"début de la période la moins chère, fin de la période la moins chère\" et si le coût est inéférieur au coût précédent, alors on calcule le nouveau coût.\n"
   ]
  },
  {
   "cell_type": "code",
   "execution_count": 2,
   "metadata": {},
   "outputs": [],
   "source": [
    "def coutMinVacances2(L: list):\n",
    "    \"\"\"CoutMinVacances2 calcule le coût minimal des vacances et \n",
    "    renvoie -1 quand ce n'est pas le cas\"\"\"\n",
    "    L = sorted(L, key=lambda colonne : colonne[2])\n",
    "    coutMin = -1 \n",
    "    debut_1,fin_1=L[0][0:2]  \n",
    "    for i in range(1,len(L)): \n",
    "        debut_i,fin_i=L[i][0:2] \n",
    "        if debut_i not in range(debut_1,fin_1) \\\n",
    "            and fin_i not in range(debut_1+1, fin_1) \\\n",
    "                and (coutMin == -1 or L[0][2] + L[i][2] < coutMin ):\n",
    "                    coutMin= L[0][2] + L[i][2]\n",
    "    return coutMin"
   ]
  },
  {
   "cell_type": "code",
   "execution_count": 3,
   "metadata": {},
   "outputs": [
    {
     "name": "stdout",
     "output_type": "stream",
     "text": [
      "4\n"
     ]
    }
   ],
   "source": [
    "L=[[6,10,3],\n",
    "   [2,5,1],\n",
    "   [6,7,3],\n",
    "   [5,8,7],\n",
    "   [1,3,2]\n",
    "   ]  \n",
    "\n",
    "print(coutMinVacances2(L))"
   ]
  }
 ],
 "metadata": {
  "kernelspec": {
   "display_name": "Python 3",
   "language": "python",
   "name": "python3"
  },
  "language_info": {
   "codemirror_mode": {
    "name": "ipython",
    "version": 3
   },
   "file_extension": ".py",
   "mimetype": "text/x-python",
   "name": "python",
   "nbconvert_exporter": "python",
   "pygments_lexer": "ipython3",
   "version": "3.6.9"
  }
 },
 "nbformat": 4,
 "nbformat_minor": 2
}
